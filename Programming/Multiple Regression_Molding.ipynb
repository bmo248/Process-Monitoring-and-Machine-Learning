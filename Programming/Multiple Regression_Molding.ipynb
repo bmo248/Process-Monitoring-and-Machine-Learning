{
 "cells": [
  {
   "cell_type": "code",
   "execution_count": 15,
   "metadata": {},
   "outputs": [],
   "source": [
    "import numpy as np\n",
    "import pandas as pd\n",
    "from matplotlib import pyplot as plt\n",
    "\n",
    "np.random.seed(4)"
   ]
  },
  {
   "cell_type": "code",
   "execution_count": 18,
   "metadata": {},
   "outputs": [
    {
     "name": "stdout",
     "output_type": "stream",
     "text": [
      "(240, 10)\n",
      "   No.  Part thickness     T_Mold      T_Melt     P_Gate   P_Runner  T_Barrel  \\\n",
      "0    1           3.155  40.648636  156.891489  25.036736  51.869155       190   \n",
      "1    2           3.150  40.692273  157.556686  24.729291  51.463036       190   \n",
      "2    3           3.154  40.769091  158.289622  24.455573  51.223509       190   \n",
      "3    4           3.150  40.570000  158.003832  25.429318  52.304509       190   \n",
      "4    5           3.149  40.651818  160.491065  24.135818  50.670800       190   \n",
      "\n",
      "   T_Mold.1  P_Pack  Vel  \n",
      "0        21      30   10  \n",
      "1        21      30   10  \n",
      "2        21      30   10  \n",
      "3        21      30   10  \n",
      "4        21      30   10  \n",
      "True\n",
      "True\n",
      "(237, 10)\n"
     ]
    }
   ],
   "source": [
    "#load data\n",
    "data = pd.read_excel('Data\\Molding_Data.xlsx') #using pandas to load the excel file\n",
    "print(data.shape) #check the number of samples and number of variables\n",
    "print(data.head(5))\n",
    "print(np.any(data.isnull() == True))\n",
    "\n",
    "data = data.dropna(axis=0, how='any') #drop nan from the data\n",
    "print(data.shape)"
   ]
  },
  {
   "cell_type": "code",
   "execution_count": 6,
   "metadata": {
    "scrolled": true
   },
   "outputs": [
    {
     "name": "stdout",
     "output_type": "stream",
     "text": [
      "(237, 4) (237,)\n"
     ]
    }
   ],
   "source": [
    "# prepare variables and target\n",
    "\n",
    "X = data.loc[:,['T_Mold','T_Melt','P_Gate','P_Runner']] #Variables, or using data.iloc[:,2:6]\n",
    "Y = data.loc[:,'Part thickness'] # Target\n",
    "\n",
    "X = X.to_numpy() #convert data frame to numpy array\n",
    "Y = Y.to_numpy()\n",
    "\n",
    "print(X.shape, Y.shape)"
   ]
  },
  {
   "cell_type": "code",
   "execution_count": 7,
   "metadata": {},
   "outputs": [],
   "source": [
    "# data normalization \n",
    "\n",
    "#normalization to gaussian distribution\n",
    "#from sklearn.preprocessing import StandardScaler\n",
    "#sc = StandardScaler() # (x - u) / s\n",
    "#X = sc.fit_transform(X)\n",
    "\n",
    "#normalization to [0 1] range\n",
    "for i in range(X.shape[1]):\n",
    "    data_ = X[:,i]\n",
    "    X[:,i] = (data_-np.amin(data_))/(np.amax(data_)-np.amin(data_)) *0.9 +0.05 \n",
    "\n",
    "const = np.ones((len(X),1)) #this is to create a constant besides the variables\n",
    "\n",
    "X = np.concatenate((X,const),axis = 1)"
   ]
  },
  {
   "cell_type": "code",
   "execution_count": 8,
   "metadata": {},
   "outputs": [
    {
     "name": "stdout",
     "output_type": "stream",
     "text": [
      "(166, 5) (166,)\n"
     ]
    }
   ],
   "source": [
    "# split training and testing data\n",
    "\n",
    "index = np.arange(len(Y))\n",
    "np.random.shuffle(index) #disorder the original data\n",
    "\n",
    "m = np.ceil(0.7*len(Y)) # 70% for training and 30% for testing\n",
    "m = int(m) #covert float type to int type\n",
    "X_Train = X[index[0:m],:] #get 70% data for training\n",
    "Y_Train = Y[index[0:m]]\n",
    "\n",
    "X_Test = X[index[m:],:] #remaining 30% data for training\n",
    "Y_Test = Y[index[m:]]\n",
    "\n",
    "print(X_Train.shape, Y_Train.shape)"
   ]
  },
  {
   "cell_type": "code",
   "execution_count": 9,
   "metadata": {},
   "outputs": [],
   "source": [
    "# define loss function, Mean Square Error (MSE)\n",
    "\n",
    "def cost_function(X, Y, B):\n",
    "    J = np.sum((X.dot(B)-Y)**2)/(2*len(Y)) \n",
    "    return J"
   ]
  },
  {
   "cell_type": "code",
   "execution_count": 10,
   "metadata": {},
   "outputs": [],
   "source": [
    "# create iterative gradient descent training\n",
    "\n",
    "def gradient_descent(X, Y, B, alpha, iterations):\n",
    "    cost_history = np.zeros(iterations)\n",
    "    \n",
    "    for iteration in range(iterations):\n",
    "        loss = X.dot(B) - Y\n",
    "        gradient = X.T.dot(loss)/len(Y)\n",
    "        B = B - alpha * gradient\n",
    "        cost = cost_function(X, Y, B)\n",
    "        cost_history[iteration] = cost \n",
    "    \n",
    "    return B, cost_history"
   ]
  },
  {
   "cell_type": "code",
   "execution_count": 11,
   "metadata": {},
   "outputs": [
    {
     "data": {
      "text/plain": [
       "[<matplotlib.lines.Line2D at 0x29996e5b248>]"
      ]
     },
     "execution_count": 11,
     "metadata": {},
     "output_type": "execute_result"
    },
    {
     "data": {
      "image/png": "[encoded data removed]",
      "text/plain": [
       "<Figure size 432x288 with 1 Axes>"
      ]
     },
     "metadata": {
      "needs_background": "light"
     },
     "output_type": "display_data"
    }
   ],
   "source": [
    "# training\n",
    "B = np.random.random(X_Train.shape[1]) # Initial Coefficients\n",
    "alpha = 0.1\n",
    "iter_ = 2000\n",
    "newB, cost_history = gradient_descent(X_Train, Y_Train, B, alpha, iter_)\n",
    "\n",
    "plt.plot(np.arange(iter_), cost_history)"
   ]
  },
  {
   "cell_type": "code",
   "execution_count": 12,
   "metadata": {},
   "outputs": [
    {
     "data": {
      "text/plain": [
       "<matplotlib.collections.PathCollection at 0x29997222bc8>"
      ]
     },
     "execution_count": 12,
     "metadata": {},
     "output_type": "execute_result"
    },
    {
     "data": {
      "image/png": "[encoded data removed]",
      "text/plain": [
       "<Figure size 432x288 with 1 Axes>"
      ]
     },
     "metadata": {
      "needs_background": "light"
     },
     "output_type": "display_data"
    }
   ],
   "source": [
    "# testing \n",
    "y_predicted = X_Test.dot(newB)\n",
    "plt.scatter(Y_Test, y_predicted)"
   ]
  },
  {
   "cell_type": "code",
   "execution_count": 13,
   "metadata": {},
   "outputs": [
    {
     "data": {
      "text/plain": [
       "0.15647296646387254"
      ]
     },
     "execution_count": 13,
     "metadata": {},
     "output_type": "execute_result"
    }
   ],
   "source": [
    "# performance evaluation\n",
    "\n",
    "def r2(y_predicted,y):\n",
    " sst = np.sum((y-y.mean())**2)\n",
    " ssr = np.sum((y_predicted-y)**2)\n",
    " r2 = 1-(ssr/sst)\n",
    " return(r2)\n",
    "\n",
    "r2(y_predicted, Y_Test)"
   ]
  },
  {
   "cell_type": "code",
   "execution_count": null,
   "metadata": {},
   "outputs": [],
   "source": []
  }
 ],
 "metadata": {
  "kernelspec": {
   "display_name": "Python 3",
   "language": "python",
   "name": "python3"
  },
  "language_info": {
   "codemirror_mode": {
    "name": "ipython",
    "version": 3
   },
   "file_extension": ".py",
   "mimetype": "text/x-python",
   "name": "python",
   "nbconvert_exporter": "python",
   "pygments_lexer": "ipython3",
   "version": "3.7.4"
  }
 },
 "nbformat": 4,
 "nbformat_minor": 2
}
