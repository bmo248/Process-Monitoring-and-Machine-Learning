{
 "cells": [
  {
   "cell_type": "markdown",
   "metadata": {},
   "source": [
    "Write file"
   ]
  },
  {
   "cell_type": "code",
   "execution_count": 1,
   "metadata": {},
   "outputs": [],
   "source": [
    "text = 'this is my first test of writing a file.\\nThis is next line.'\n",
    "append_text = \"\\nThis is another line.\"\n",
    "my_file=open('test_file.txt','w') #'w' write mode or 'r' read mode\n",
    "my_file.write(text)\n",
    "my_file.close()\n",
    "\n",
    "my_file=open('test_file.txt','a') #append mode\n",
    "my_file.write(append_text)\n",
    "my_file.close()"
   ]
  },
  {
   "cell_type": "markdown",
   "metadata": {},
   "source": [
    "Read file"
   ]
  },
  {
   "cell_type": "code",
   "execution_count": 11,
   "metadata": {},
   "outputs": [
    {
     "name": "stdout",
     "output_type": "stream",
     "text": [
      "['this is my first test of writing a file.\\n', 'This is next line.\\n', 'This is another line.']\n"
     ]
    }
   ],
   "source": [
    "my_file=open('test_file.txt','r') #read mode\n",
    "#content=my_file.read()\n",
    "content_line=my_file.readlines() #read line by line\n",
    "print(content_line)"
   ]
  },
  {
   "cell_type": "markdown",
   "metadata": {},
   "source": [
    "Define class; initialize class"
   ]
  },
  {
   "cell_type": "code",
   "execution_count": 2,
   "metadata": {},
   "outputs": [
    {
     "name": "stdout",
     "output_type": "stream",
     "text": [
      "Edward calculator\n"
     ]
    },
    {
     "data": {
      "text/plain": [
       "3"
      ]
     },
     "execution_count": 2,
     "metadata": {},
     "output_type": "execute_result"
    }
   ],
   "source": [
    "class calculator:\n",
    "    name = 'Edward calculator'\n",
    "    def __init__(self,price): #initialize the parameters\n",
    "        self.p=price\n",
    "    def add(self,x,y): # self: use self quantities in this class\n",
    "        return x+y\n",
    "        print(x+y)\n",
    "    def minus(self,x,y):\n",
    "        return(x-y)\n",
    "\n",
    "cal=calculator(15)\n",
    "print(cal.name)\n",
    "cal.add(1,2)"
   ]
  },
  {
   "cell_type": "markdown",
   "metadata": {},
   "source": [
    "Input"
   ]
  },
  {
   "cell_type": "code",
   "execution_count": 3,
   "metadata": {},
   "outputs": [
    {
     "name": "stdout",
     "output_type": "stream",
     "text": [
      "Please give a number10\n",
      "this number is 10\n"
     ]
    }
   ],
   "source": [
    "a_input=input('Please give a number')\n",
    "print('this number is',a_input)"
   ]
  },
  {
   "cell_type": "markdown",
   "metadata": {},
   "source": [
    "Tuple/list: tuple use(), list use []"
   ]
  },
  {
   "cell_type": "code",
   "execution_count": 4,
   "metadata": {},
   "outputs": [
    {
     "name": "stdout",
     "output_type": "stream",
     "text": [
      "[1, 125, 5]\n",
      "1\n"
     ]
    }
   ],
   "source": [
    "a_list=[1,3,5] \n",
    "# for i in range(len(a_tuple)):\n",
    "#     print('index=',i,'the number in the list is:',a_tuple[i])\n",
    "a_list.append(15)    #append a number\n",
    "a_list.insert(1,125) #insert a number into a list\n",
    "a_list.remove(3)     #remove a number/value instead of a position\n",
    "print(a_list[:3])    #-1 refers to the last element\n",
    "print(a_list.index(125))    #find the position of value \n",
    "a_list.count(125)    #count the freqeuncy of the value\n",
    "a_list.sort()        #sort the list\n"
   ]
  },
  {
   "cell_type": "markdown",
   "metadata": {},
   "source": [
    "multi-dimensional list & dictionary"
   ]
  },
  {
   "cell_type": "code",
   "execution_count": 52,
   "metadata": {},
   "outputs": [
    {
     "name": "stdout",
     "output_type": "stream",
     "text": [
      "2\n",
      "1\n",
      "{'yellow': 2, 'green': 3, 'blue': 4}\n"
     ]
    }
   ],
   "source": [
    "a = [[1,2,3],[2,3,4],[3,4,5]]\n",
    "print(a[0][1])\n",
    "d = {'red':1,\n",
    "    'yellow':2,\n",
    "    'green':3}\n",
    "print(d['red']) \n",
    "del d['red']  #delete an element from dictionary\n",
    "d['blue']=4\n",
    "print(d)"
   ]
  },
  {
   "cell_type": "code",
   "execution_count": null,
   "metadata": {},
   "outputs": [],
   "source": [
    "import module"
   ]
  },
  {
   "cell_type": "code",
   "execution_count": 9,
   "metadata": {},
   "outputs": [
    {
     "name": "stdout",
     "output_type": "stream",
     "text": [
      "time.struct_time(tm_year=2020, tm_mon=1, tm_mday=13, tm_hour=18, tm_min=10, tm_sec=44, tm_wday=0, tm_yday=13, tm_isdst=0)\n"
     ]
    }
   ],
   "source": [
    "import time as t\n",
    "print(t.localtime())"
   ]
  },
  {
   "cell_type": "markdown",
   "metadata": {},
   "source": [
    "try/except wrong message processing"
   ]
  },
  {
   "cell_type": "code",
   "execution_count": 8,
   "metadata": {},
   "outputs": [
    {
     "name": "stdout",
     "output_type": "stream",
     "text": [
      "there is no file named eee\n",
      "do you want to create a eee filey\n"
     ]
    }
   ],
   "source": [
    "try:\n",
    "    file=open('eee.txt','r')\n",
    "except Exception as e:\n",
    "    print('there is no file named eee') \n",
    "    response=input('do you want to create a eee file')\n",
    "    if response == 'y':\n",
    "        file = open('eee.txt','w')\n",
    "    else:\n",
    "        pass\n",
    "file.close()\n",
    "    "
   ]
  },
  {
   "cell_type": "markdown",
   "metadata": {},
   "source": [
    "lambda(define a simple function), zip (combine lists), map"
   ]
  },
  {
   "cell_type": "code",
   "execution_count": 3,
   "metadata": {},
   "outputs": [
    {
     "name": "stdout",
     "output_type": "stream",
     "text": [
      "[(1, 4), (2, 5), (3, 6)]\n"
     ]
    },
    {
     "data": {
      "text/plain": [
       "[3, 6]"
      ]
     },
     "execution_count": 3,
     "metadata": {},
     "output_type": "execute_result"
    }
   ],
   "source": [
    "a=[1,2,3]\n",
    "b=[4,5,6]\n",
    "print(list(zip(a,b)))  #combine two lists\n",
    "fun = lambda x,y:x+y #define a simple function\n",
    "list(map(fun,[1,3],[2,3]))"
   ]
  },
  {
   "cell_type": "markdown",
   "metadata": {},
   "source": [
    "shallow copy and deep copy"
   ]
  },
  {
   "cell_type": "code",
   "execution_count": 2,
   "metadata": {},
   "outputs": [
    {
     "name": "stdout",
     "output_type": "stream",
     "text": [
      "[1, 2, 3]\n",
      "True\n",
      "False\n",
      "False\n"
     ]
    }
   ],
   "source": [
    "import copy\n",
    "b=a                    \n",
    "print(b)\n",
    "print(id(b)==id(a))\n",
    "c=copy.copy(a)          #shallow copy\n",
    "print(id(c)==id(a))\n",
    "d=copy.deepcopy(a)      #deep copy\n",
    "print(id(d)==id(a))"
   ]
  },
  {
   "cell_type": "code",
   "execution_count": null,
   "metadata": {},
   "outputs": [],
   "source": []
  }
 ],
 "metadata": {
  "kernelspec": {
   "display_name": "Python 3",
   "language": "python",
   "name": "python3"
  },
  "language_info": {
   "codemirror_mode": {
    "name": "ipython",
    "version": 3
   },
   "file_extension": ".py",
   "mimetype": "text/x-python",
   "name": "python",
   "nbconvert_exporter": "python",
   "pygments_lexer": "ipython3",
   "version": "3.7.4"
  }
 },
 "nbformat": 4,
 "nbformat_minor": 2
}
