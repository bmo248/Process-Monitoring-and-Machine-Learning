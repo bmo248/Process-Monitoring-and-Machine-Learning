{
 "cells": [
  {
   "cell_type": "code",
   "execution_count": 1,
   "metadata": {},
   "outputs": [],
   "source": [
    "import numpy as np"
   ]
  },
  {
   "cell_type": "code",
   "execution_count": 14,
   "metadata": {
    "collapsed": true
   },
   "outputs": [
    {
     "name": "stdout",
     "output_type": "stream",
     "text": [
      "(3,) (2, 3)\n",
      "[[1. 1.]\n",
      " [1. 1.]]\n",
      "[[0.16588131 0.66522188]\n",
      " [0.19424474 0.55770322]]\n",
      "int32 int32\n"
     ]
    }
   ],
   "source": [
    "# Create an array\n",
    "a = np.array([1, 2, 3])\n",
    "b = np.array([[1, 2, 3],[4, 5, 6]])\n",
    "c = np.ones((2,2)) #np.zeros, np.eye\n",
    "d = np.random.random((2,2))\n",
    "\n",
    "print(a.shape, b.shape)\n",
    "print(c)\n",
    "print(d)\n",
    "print(a.dtype,b.dtype) #print data types"
   ]
  },
  {
   "cell_type": "code",
   "execution_count": 13,
   "metadata": {
    "collapsed": true
   },
   "outputs": [
    {
     "name": "stdout",
     "output_type": "stream",
     "text": [
      "[4 5 6]\n",
      "[1 5]\n",
      "[3 4 5 6]\n"
     ]
    }
   ],
   "source": [
    "# array index, starts from 0 instead of 1\n",
    "print(b[1,:]) #print the second row\n",
    "print(b[np.arange(2),[0,1]]) # print the selected elements\n",
    "print(b[b>2]) #print elements >2"
   ]
  },
  {
   "cell_type": "code",
   "execution_count": 18,
   "metadata": {
    "collapsed": true
   },
   "outputs": [
    {
     "name": "stdout",
     "output_type": "stream",
     "text": [
      "[[0.16588131 0.66522188]\n",
      " [0.19424474 0.55770322]]\n",
      "[[0.36012605 1.22292509]\n",
      " [0.36012605 1.22292509]]\n",
      "[5 7 9]\n",
      "[[1 4]\n",
      " [2 5]\n",
      " [3 6]]\n"
     ]
    }
   ],
   "source": [
    "# Array operation\n",
    "print (c*d) # +, -, /, np.sqrt(), elementwise multiplication\n",
    "print (np.dot(c,d)) # products of vectors\n",
    "\n",
    "print (np.sum(b,axis =0)) #sum along row\n",
    "print (b.T) #transpose"
   ]
  },
  {
   "cell_type": "code",
   "execution_count": 29,
   "metadata": {
    "collapsed": true
   },
   "outputs": [
    {
     "name": "stdout",
     "output_type": "stream",
     "text": [
      "[[2 2 4]\n",
      " [5 5 7]]\n",
      "[[2 2 4]\n",
      " [5 5 7]]\n",
      "[[ 4]\n",
      " [10]]\n"
     ]
    }
   ],
   "source": [
    "# Broadcasting, which allows the operation between smaller-size array and larger-size array\n",
    "e = np.array([1, 0, 1])\n",
    "print (b+e)\n",
    "\n",
    "ee = np.tile(e,(2,1)) # another option\n",
    "print (b+ee)\n",
    "\n",
    "#reshape)\n",
    "print(b.dot(np.reshape(e,(3,1))))"
   ]
  },
  {
   "cell_type": "code",
   "execution_count": null,
   "metadata": {},
   "outputs": [],
   "source": []
  }
 ],
 "metadata": {
  "kernelspec": {
   "display_name": "Python 3",
   "language": "python",
   "name": "python3"
  },
  "language_info": {
   "codemirror_mode": {
    "name": "ipython",
    "version": 3
   },
   "file_extension": ".py",
   "mimetype": "text/x-python",
   "name": "python",
   "nbconvert_exporter": "python",
   "pygments_lexer": "ipython3",
   "version": "3.7.4"
  }
 },
 "nbformat": 4,
 "nbformat_minor": 2
}
