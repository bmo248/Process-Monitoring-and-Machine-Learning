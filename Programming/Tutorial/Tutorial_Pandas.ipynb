{
 "cells": [
  {
   "cell_type": "code",
   "execution_count": 1,
   "metadata": {},
   "outputs": [],
   "source": [
    "import pandas as pd\n",
    "import numpy as np"
   ]
  },
  {
   "cell_type": "code",
   "execution_count": 13,
   "metadata": {},
   "outputs": [
    {
     "name": "stdout",
     "output_type": "stream",
     "text": [
      "          0         1         2         3\n",
      "A  1.467626 -0.281849 -0.293338 -1.275489\n",
      "B -0.804563  0.439639  0.533912 -0.395951\n",
      "C -1.463519  0.505107 -0.127423  0.300977\n",
      "D  1.777735 -0.437587  0.651255  0.211014\n",
      "E -1.891564  0.960291 -0.791418 -2.063371\n",
      "F -0.228518  0.212603 -0.093076  1.097323\n",
      "              0         1         2         3\n",
      "count  6.000000  6.000000  6.000000  6.000000\n",
      "mean  -0.190467  0.233034 -0.020015 -0.354250\n",
      "std    1.517633  0.521702  0.537416  1.151297\n",
      "min   -1.891564 -0.437587 -0.791418 -2.063371\n",
      "25%   -1.298780 -0.158236 -0.251860 -1.055604\n",
      "50%   -0.516540  0.326121 -0.110249 -0.092469\n",
      "75%    1.043590  0.488740  0.377165  0.278486\n",
      "max    1.777735  0.960291  0.651255  1.097323\n"
     ]
    },
    {
     "data": {
      "text/html": [
       "<div>\n",
       "<style scoped>\n",
       "    .dataframe tbody tr th:only-of-type {\n",
       "        vertical-align: middle;\n",
       "    }\n",
       "\n",
       "    .dataframe tbody tr th {\n",
       "        vertical-align: top;\n",
       "    }\n",
       "\n",
       "    .dataframe thead th {\n",
       "        text-align: right;\n",
       "    }\n",
       "</style>\n",
       "<table border=\"1\" class=\"dataframe\">\n",
       "  <thead>\n",
       "    <tr style=\"text-align: right;\">\n",
       "      <th></th>\n",
       "      <th>0</th>\n",
       "      <th>1</th>\n",
       "      <th>2</th>\n",
       "      <th>3</th>\n",
       "    </tr>\n",
       "  </thead>\n",
       "  <tbody>\n",
       "    <tr>\n",
       "      <th>F</th>\n",
       "      <td>-0.228518</td>\n",
       "      <td>0.212603</td>\n",
       "      <td>-0.093076</td>\n",
       "      <td>1.097323</td>\n",
       "    </tr>\n",
       "    <tr>\n",
       "      <th>E</th>\n",
       "      <td>-1.891564</td>\n",
       "      <td>0.960291</td>\n",
       "      <td>-0.791418</td>\n",
       "      <td>-2.063371</td>\n",
       "    </tr>\n",
       "    <tr>\n",
       "      <th>D</th>\n",
       "      <td>1.777735</td>\n",
       "      <td>-0.437587</td>\n",
       "      <td>0.651255</td>\n",
       "      <td>0.211014</td>\n",
       "    </tr>\n",
       "    <tr>\n",
       "      <th>C</th>\n",
       "      <td>-1.463519</td>\n",
       "      <td>0.505107</td>\n",
       "      <td>-0.127423</td>\n",
       "      <td>0.300977</td>\n",
       "    </tr>\n",
       "    <tr>\n",
       "      <th>B</th>\n",
       "      <td>-0.804563</td>\n",
       "      <td>0.439639</td>\n",
       "      <td>0.533912</td>\n",
       "      <td>-0.395951</td>\n",
       "    </tr>\n",
       "    <tr>\n",
       "      <th>A</th>\n",
       "      <td>1.467626</td>\n",
       "      <td>-0.281849</td>\n",
       "      <td>-0.293338</td>\n",
       "      <td>-1.275489</td>\n",
       "    </tr>\n",
       "  </tbody>\n",
       "</table>\n",
       "</div>"
      ],
      "text/plain": [
       "          0         1         2         3\n",
       "F -0.228518  0.212603 -0.093076  1.097323\n",
       "E -1.891564  0.960291 -0.791418 -2.063371\n",
       "D  1.777735 -0.437587  0.651255  0.211014\n",
       "C -1.463519  0.505107 -0.127423  0.300977\n",
       "B -0.804563  0.439639  0.533912 -0.395951\n",
       "A  1.467626 -0.281849 -0.293338 -1.275489"
      ]
     },
     "execution_count": 13,
     "metadata": {},
     "output_type": "execute_result"
    }
   ],
   "source": [
    "##### Basic Operation #####\n",
    "a = pd.Series([1, 3, 5, np.nan, 44, 1]) ### Create series\n",
    "b = pd.DataFrame(np.random.randn(6,4), index=['A','B','C','D','E','F'])  ### create matrix\n",
    "print(b)\n",
    "print(b.describe()) ### calculate mean, std, min, max\n",
    "#b.transpose(), b.rows, b.columns, b.values\n",
    "b.sort_index(axis=0, ascending=False) ### sort by index; or b.sort_value to sort by value"
   ]
  },
  {
   "cell_type": "code",
   "execution_count": 14,
   "metadata": {},
   "outputs": [
    {
     "name": "stdout",
     "output_type": "stream",
     "text": [
      "          0         1         2\n",
      "A  1.467626 -0.281849 -0.293338\n",
      "B -0.804563  0.439639  0.533912\n",
      "          1         2\n",
      "B  0.439639  0.533912\n",
      "C  0.505107 -0.127423\n",
      "          1         2\n",
      "B  0.439639  0.533912\n",
      "C  0.505107 -0.127423\n"
     ]
    },
    {
     "name": "stderr",
     "output_type": "stream",
     "text": [
      "C:\\Users\\Edward Wang\\Miniconda3\\lib\\site-packages\\ipykernel_launcher.py:4: FutureWarning: \n",
      ".ix is deprecated. Please use\n",
      ".loc for label based indexing or\n",
      ".iloc for positional indexing\n",
      "\n",
      "See the documentation here:\n",
      "http://pandas.pydata.org/pandas-docs/stable/user_guide/indexing.html#ix-indexer-is-deprecated\n",
      "  after removing the cwd from sys.path.\n",
      "C:\\Users\\Edward Wang\\Miniconda3\\lib\\site-packages\\pandas\\core\\indexing.py:822: FutureWarning: \n",
      ".ix is deprecated. Please use\n",
      ".loc for label based indexing or\n",
      ".iloc for positional indexing\n",
      "\n",
      "See the documentation here:\n",
      "http://pandas.pydata.org/pandas-docs/stable/user_guide/indexing.html#ix-indexer-is-deprecated\n",
      "  retval = getattr(retval, self.name)._getitem_axis(key, axis=i)\n"
     ]
    }
   ],
   "source": [
    "##### select #####\n",
    "print(b.loc[['A','B'],[0,1,2]])     ###select by label\n",
    "print(b.iloc[1:3,1:3])              ### select by position\n",
    "print(b.ix[1:3,[1,2]])              ### select by both label and position"
   ]
  },
  {
   "cell_type": "code",
   "execution_count": 15,
   "metadata": {},
   "outputs": [
    {
     "name": "stdout",
     "output_type": "stream",
     "text": [
      "          0         1         2         3  4\n",
      "A -1.000000 -0.281849 -0.293338 -1.275489  0\n",
      "B -0.804563  1.000000  0.533912 -0.395951  1\n",
      "C -1.463519  0.505107  1.000000  0.300977  2\n",
      "D  1.777735 -0.437587  1.000000  0.211014  3\n",
      "E -1.891564  0.960291 -0.791418 -2.063371  4\n",
      "F -0.228518  0.212603  1.000000  1.097323  5\n"
     ]
    }
   ],
   "source": [
    "##### set value #####\n",
    "b.iloc[1,1]=1\n",
    "b.loc['A',0]=-1\n",
    "b.iloc[:,2][b.iloc[:,3]>0]=1\n",
    "b[4]=np.arange(6,dtype='int64')\n",
    "print(b)"
   ]
  },
  {
   "cell_type": "code",
   "execution_count": 16,
   "metadata": {},
   "outputs": [
    {
     "name": "stdout",
     "output_type": "stream",
     "text": [
      "          0         1         2         3  4\n",
      "A -1.000000 -0.281849 -0.293338 -1.275489  0\n",
      "B -0.804563  1.000000  0.533912 -0.395951  1\n",
      "C -1.463519  0.505107  1.000000       NaN  2\n",
      "D  1.777735 -0.437587  1.000000  0.211014  3\n",
      "E -1.891564  0.960291 -0.791418 -2.063371  4\n",
      "F -0.228518  0.212603  1.000000  1.097323  5\n",
      "          0         1         2         3  4\n",
      "A -1.000000 -0.281849 -0.293338 -1.275489  0\n",
      "B -0.804563  1.000000  0.533912 -0.395951  1\n",
      "D  1.777735 -0.437587  1.000000  0.211014  3\n",
      "E -1.891564  0.960291 -0.791418 -2.063371  4\n",
      "F -0.228518  0.212603  1.000000  1.097323  5\n",
      "          0         1         2         3  4\n",
      "A -1.000000 -0.281849 -0.293338 -1.275489  0\n",
      "B -0.804563  1.000000  0.533912 -0.395951  1\n",
      "C -1.463519  0.505107  1.000000  0.000000  2\n",
      "D  1.777735 -0.437587  1.000000  0.211014  3\n",
      "E -1.891564  0.960291 -0.791418 -2.063371  4\n",
      "F -0.228518  0.212603  1.000000  1.097323  5\n",
      "       0      1      2      3      4\n",
      "A  False  False  False  False  False\n",
      "B  False  False  False  False  False\n",
      "C  False  False  False   True  False\n",
      "D  False  False  False  False  False\n",
      "E  False  False  False  False  False\n",
      "F  False  False  False  False  False\n",
      "True\n"
     ]
    }
   ],
   "source": [
    "##### deal with NaN####\n",
    "b.iloc[2,3]=np.nan\n",
    "print(b)\n",
    "print(b.dropna(axis=0,how='any')) ### drop nan row/column how={'any','all'}\n",
    "print(b.fillna(value=0))          ### fill nan with value\n",
    "print(b.isnull())                 ### detect where is null\n",
    "print(np.any(b.isnull()==True))   \n"
   ]
  },
  {
   "cell_type": "code",
   "execution_count": null,
   "metadata": {},
   "outputs": [],
   "source": []
  }
 ],
 "metadata": {
  "kernelspec": {
   "display_name": "Python 3",
   "language": "python",
   "name": "python3"
  },
  "language_info": {
   "codemirror_mode": {
    "name": "ipython",
    "version": 3
   },
   "file_extension": ".py",
   "mimetype": "text/x-python",
   "name": "python",
   "nbconvert_exporter": "python",
   "pygments_lexer": "ipython3",
   "version": "3.7.4"
  }
 },
 "nbformat": 4,
 "nbformat_minor": 2
}
